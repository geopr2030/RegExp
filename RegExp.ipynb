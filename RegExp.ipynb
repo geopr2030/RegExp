{
  "nbformat": 4,
  "nbformat_minor": 0,
  "metadata": {
    "colab": {
      "provenance": [],
      "authorship_tag": "ABX9TyP93GMMQTFl+dNTRf7ZUjSE"
    },
    "kernelspec": {
      "name": "python3",
      "display_name": "Python 3"
    },
    "language_info": {
      "name": "python"
    }
  },
  "cells": [
    {
      "cell_type": "code",
      "execution_count": 1,
      "metadata": {
        "id": "dQHIfVOg4aQI"
      },
      "outputs": [],
      "source": [
        "#re-> regular expression in python and allows to do pattern matching\n",
        "import re"
      ]
    },
    {
      "cell_type": "code",
      "source": [
        "#Identifying mob no, email, order no from two chats\n",
        "chat1='My contact no is : 8877985036 and email id is :  geopr2030@gmail.com'\n",
        "chat2='My contact  no is : 7070585936 and email id is : vineetkumar70@gmail.com'\n",
        "pattern1='\\d{10}'\n",
        "mob=re.findall(pattern1, chat1)\n",
        "print(mob)\n",
        "pattern2='[a-zA-Z0-9_]*@[a-zA-Z0-9]*.[a-z]*'\n",
        "mail=re.findall(pattern2, chat1)\n",
        "print(mail)"
      ],
      "metadata": {
        "colab": {
          "base_uri": "https://localhost:8080/"
        },
        "id": "_ZW5-rFQ5dNd",
        "outputId": "5af99e17-3910-46ea-e192-334b2299f816"
      },
      "execution_count": 12,
      "outputs": [
        {
          "output_type": "stream",
          "name": "stdout",
          "text": [
            "['8877985036']\n",
            "['geopr2030@gmail.com']\n"
          ]
        }
      ]
    },
    {
      "cell_type": "markdown",
      "source": [
        "Getting contact no"
      ],
      "metadata": {
        "id": "aVr0SRWs7H9s"
      }
    },
    {
      "cell_type": "code",
      "source": [
        "#Getting order no from flipkart chat\n",
        "chat1='Hello, I am having issue with my order no : 123456789'\n",
        "chat2='Hello, I am having issue with my order # 123456789'\n",
        "pattern='order[^\\d]*(\\d*)'\n",
        "res=re.findall(pattern, chat2)\n",
        "res"
      ],
      "metadata": {
        "colab": {
          "base_uri": "https://localhost:8080/"
        },
        "id": "8y2-gVgq7QVL",
        "outputId": "825756d1-3c24-475a-a36f-081c6cf24622"
      },
      "execution_count": 9,
      "outputs": [
        {
          "output_type": "execute_result",
          "data": {
            "text/plain": [
              "['123456789']"
            ]
          },
          "metadata": {},
          "execution_count": 9
        }
      ]
    },
    {
      "cell_type": "markdown",
      "source": [
        "Information Extraction"
      ],
      "metadata": {
        "id": "oVzyNwYy8X8r"
      }
    },
    {
      "cell_type": "code",
      "source": [],
      "metadata": {
        "id": "Ai6vfg868bf2"
      },
      "execution_count": null,
      "outputs": []
    }
  ]
}