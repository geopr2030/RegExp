{
  "nbformat": 4,
  "nbformat_minor": 0,
  "metadata": {
    "colab": {
      "provenance": [],
      "authorship_tag": "ABX9TyOsPCsKBBKcSER2CenhYN9p"
    },
    "kernelspec": {
      "name": "python3",
      "display_name": "Python 3"
    },
    "language_info": {
      "name": "python"
    }
  },
  "cells": [
    {
      "cell_type": "code",
      "execution_count": 57,
      "metadata": {
        "id": "dQHIfVOg4aQI"
      },
      "outputs": [],
      "source": [
        "#re-> regular expression in python and allows to do pattern matching\n",
        "import re"
      ]
    },
    {
      "cell_type": "markdown",
      "source": [
        "Extracting details from flipkart help chat"
      ],
      "metadata": {
        "id": "QSHRfOzifbdS"
      }
    },
    {
      "cell_type": "code",
      "source": [
        "chat1='Hello, My contact no is : 8877985036 and email id is :  geopr2030@gmail.com. I am having issue with my order no : 123456789'\n",
        "chat2='Hello, My contact  no is : 7070585936 and email id is : vineetkumar70@gmail.com. I am having issue with my order # 987654321'\n",
        "pattern1='\\d{10}'\n",
        "mob=re.findall(pattern1, chat1)\n",
        "print(mob)\n",
        "pattern2='[a-zA-Z0-9_]*@[a-zA-Z0-9]*.[a-z]*'\n",
        "mail=re.findall(pattern2, chat1)\n",
        "print(mail)\n",
        "pattern3='order[^\\d]*(\\d*)'\n",
        "order=re.findall(pattern3, chat1)\n",
        "print(order)"
      ],
      "metadata": {
        "colab": {
          "base_uri": "https://localhost:8080/"
        },
        "id": "_ZW5-rFQ5dNd",
        "outputId": "fd9668ce-a600-41b5-aa65-6f7d0e4b5125"
      },
      "execution_count": 60,
      "outputs": [
        {
          "output_type": "stream",
          "name": "stdout",
          "text": [
            "['8877985036']\n",
            "['geopr2030@gmail.com']\n",
            "['123456789']\n"
          ]
        }
      ]
    },
    {
      "cell_type": "markdown",
      "source": [
        "Information Extraction from Wikipedia"
      ],
      "metadata": {
        "id": "oVzyNwYy8X8r"
      }
    },
    {
      "cell_type": "code",
      "source": [
        "#Text from wikipedia to extract information\n",
        "text='''Born\tMukesh Dhirubhai Ambani\n",
        "19 April 1957 (age 67)\n",
        "Aden, Colony of Aden\n",
        "(present-day Yemen)[1][2]\n",
        "Nationality\tIndian\n",
        "Alma mater\n",
        "St. Xavier's College, Mumbai\n",
        "Institute of Chemical Technology (B.E.)\n",
        "Occupation(s)\tChairman and MD, Reliance Industries\n",
        "Spouse Nita Ambani ​(m. 1985)​[3]\n",
        "Children\t3\n",
        "Parents\n",
        "Dhirubhai Ambani (father)\n",
        "Kokilaben Ambani (mother)\n",
        "Relatives\tAnil Ambani (brother)\n",
        "Tina Ambani (sister-in-law)'''\n",
        "\n",
        "def pattern_match(pattern, text):\n",
        "  result=re.findall(pattern, text)\n",
        "  if result:\n",
        "    return result[0]\n",
        "  return '' #Return empty string if no match is found\n",
        "\n",
        "def personal_info(text):\n",
        "  name=pattern_match('Born(.*)\\n', text)\n",
        "  age=pattern_match('age (\\d+)', text)\n",
        "  birth_date=pattern_match('Born.*\\n(.*)\\(age', text)\n",
        "  birth_place=pattern_match('\\(age.*\\n(.*)', text)\n",
        "  spouse=pattern_match('Spouse ([A-Za-z]* [A-Za-z]*)', text)\n",
        "\n",
        "  return {\n",
        "      'Name': name.strip(),\n",
        "      'Age': int(age) if age else 0,  # Convert to integer, default to 0 if empty\n",
        "      'Birth_Date': birth_date.strip(),\n",
        "      'Birth_Place': birth_place.strip(),\n",
        "      'Spouse': spouse.strip()\n",
        "  }\n",
        "\n",
        "personal_info(text)"
      ],
      "metadata": {
        "colab": {
          "base_uri": "https://localhost:8080/"
        },
        "id": "Ai6vfg868bf2",
        "outputId": "866072eb-ed15-40d5-b62c-bcf8a594f388"
      },
      "execution_count": 64,
      "outputs": [
        {
          "output_type": "execute_result",
          "data": {
            "text/plain": [
              "{'Name': 'Mukesh Dhirubhai Ambani',\n",
              " 'Age': 67,\n",
              " 'Birth_Date': '19 April 1957',\n",
              " 'Birth_Place': 'Aden, Colony of Aden',\n",
              " 'Spouse': 'Nita Ambani'}"
            ]
          },
          "metadata": {},
          "execution_count": 64
        }
      ]
    }
  ]
}