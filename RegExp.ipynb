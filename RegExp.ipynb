{
  "nbformat": 4,
  "nbformat_minor": 0,
  "metadata": {
    "colab": {
      "provenance": [],
      "authorship_tag": "ABX9TyN8YRb0H7RiGWk3Ls+RszDG"
    },
    "kernelspec": {
      "name": "python3",
      "display_name": "Python 3"
    },
    "language_info": {
      "name": "python"
    }
  },
  "cells": [
    {
      "cell_type": "code",
      "execution_count": null,
      "metadata": {
        "id": "dQHIfVOg4aQI"
      },
      "outputs": [],
      "source": [
        "#re-> regular expression in python and allows to do pattern matching\n",
        "import re"
      ]
    },
    {
      "cell_type": "markdown",
      "source": [
        "Extracting details from flipkart help chat"
      ],
      "metadata": {
        "id": "QSHRfOzifbdS"
      }
    },
    {
      "cell_type": "code",
      "source": [
        "chat1='Hello, My contact no is : 8877985036 and email id is :  geopr2030@gmail.com. I am having issue with my order no : 123456789'\n",
        "chat2='Hello, My contact  no is : 7070585936 and email id is : vineetkumar70@gmail.com. I am having issue with my order # 987654321'\n",
        "pattern1='\\d{10}'\n",
        "mob=re.findall(pattern1, chat1)\n",
        "print(mob)\n",
        "pattern2='[a-zA-Z0-9_]*@[a-zA-Z0-9]*.[a-z]*'\n",
        "mail=re.findall(pattern2, chat1)\n",
        "print(mail)\n",
        "pattern3='order[^\\d]*(\\d*)'\n",
        "order=re.findall(pattern3, chat1)\n",
        "print(order)"
      ],
      "metadata": {
        "colab": {
          "base_uri": "https://localhost:8080/"
        },
        "id": "_ZW5-rFQ5dNd",
        "outputId": "fd9668ce-a600-41b5-aa65-6f7d0e4b5125"
      },
      "execution_count": null,
      "outputs": [
        {
          "output_type": "stream",
          "name": "stdout",
          "text": [
            "['8877985036']\n",
            "['geopr2030@gmail.com']\n",
            "['123456789']\n"
          ]
        }
      ]
    },
    {
      "cell_type": "markdown",
      "source": [
        "Information Extraction from Wikipedia"
      ],
      "metadata": {
        "id": "oVzyNwYy8X8r"
      }
    },
    {
      "cell_type": "code",
      "source": [
        "#Text from wikipedia to extract information\n",
        "text='''Born\tMukesh Dhirubhai Ambani\n",
        "19 April 1957 (age 67)\n",
        "Aden, Colony of Aden\n",
        "(present-day Yemen)[1][2]\n",
        "Nationality\tIndian\n",
        "Alma mater\n",
        "St. Xavier's College, Mumbai\n",
        "Institute of Chemical Technology (B.E.)\n",
        "Occupation(s)\tChairman and MD, Reliance Industries\n",
        "Spouse Nita Ambani ​(m. 1985)​[3]\n",
        "Children\t3\n",
        "Parents\n",
        "Dhirubhai Ambani (father)\n",
        "Kokilaben Ambani (mother)\n",
        "Relatives\tAnil Ambani (brother)\n",
        "Tina Ambani (sister-in-law)'''\n",
        "\n",
        "def pattern_match(pattern, text):\n",
        "  result=re.findall(pattern, text)\n",
        "  if result:\n",
        "    return result[0]\n",
        "  return '' #Return empty string if no match is found\n",
        "\n",
        "def personal_info(text):\n",
        "  name=pattern_match('Born(.*)\\n', text)\n",
        "  age=pattern_match('age (\\d+)', text)\n",
        "  birth_date=pattern_match('Born.*\\n(.*)\\(age', text)\n",
        "  birth_place=pattern_match('\\(age.*\\n(.*)', text)\n",
        "  spouse=pattern_match('Spouse ([A-Za-z]* [A-Za-z]*)', text)\n",
        "\n",
        "  return {\n",
        "      'Name': name.strip(),\n",
        "      'Age': int(age) if age else 0,  # Convert to integer, default to 0 if empty\n",
        "      'Birth_Date': birth_date.strip(),\n",
        "      'Birth_Place': birth_place.strip(),\n",
        "      'Spouse': spouse.strip()\n",
        "  }\n",
        "\n",
        "personal_info(text)"
      ],
      "metadata": {
        "colab": {
          "base_uri": "https://localhost:8080/"
        },
        "id": "Ai6vfg868bf2",
        "outputId": "866072eb-ed15-40d5-b62c-bcf8a594f388"
      },
      "execution_count": null,
      "outputs": [
        {
          "output_type": "execute_result",
          "data": {
            "text/plain": [
              "{'Name': 'Mukesh Dhirubhai Ambani',\n",
              " 'Age': 67,\n",
              " 'Birth_Date': '19 April 1957',\n",
              " 'Birth_Place': 'Aden, Colony of Aden',\n",
              " 'Spouse': 'Nita Ambani'}"
            ]
          },
          "metadata": {},
          "execution_count": 64
        }
      ]
    },
    {
      "cell_type": "code",
      "source": [
        "with open(\"mail.txt\") as f:\n",
        "  text=f.readlines()\n",
        "text"
      ],
      "metadata": {
        "colab": {
          "base_uri": "https://localhost:8080/"
        },
        "id": "gRT-BGJSRXc3",
        "outputId": "10e537f7-b123-4db4-f17c-9f8776b806a0"
      },
      "execution_count": null,
      "outputs": [
        {
          "output_type": "execute_result",
          "data": {
            "text/plain": [
              "['Name                             Email\\n',\n",
              " 'Prashant \\t\\t\\t geopr2030@gmail.com\\n',\n",
              " 'Vineet\\t\\t\\t\\t vineet7070@gmail.com']"
            ]
          },
          "metadata": {},
          "execution_count": 1
        }
      ]
    },
    {
      "cell_type": "code",
      "source": [
        "#Make all sentence in mail.txt in single line\n",
        "text=' '.join(text)\n",
        "text"
      ],
      "metadata": {
        "colab": {
          "base_uri": "https://localhost:8080/",
          "height": 36
        },
        "id": "M8qpjnFqRt1k",
        "outputId": "7512528e-dec5-4dfc-8c0d-6cc08081e66d"
      },
      "execution_count": null,
      "outputs": [
        {
          "output_type": "execute_result",
          "data": {
            "text/plain": [
              "'Name                             Email\\n Prashant \\t\\t\\t geopr2030@gmail.com\\n Vineet\\t\\t\\t\\t vineet7070@gmail.com'"
            ],
            "application/vnd.google.colaboratory.intrinsic+json": {
              "type": "string"
            }
          },
          "metadata": {},
          "execution_count": 2
        }
      ]
    },
    {
      "cell_type": "code",
      "source": [
        "!pip install spacy"
      ],
      "metadata": {
        "colab": {
          "base_uri": "https://localhost:8080/"
        },
        "id": "NdHgRCRgSYhu",
        "outputId": "b3fc4b89-24e4-44d1-8c9b-570aeff92cda"
      },
      "execution_count": null,
      "outputs": [
        {
          "output_type": "stream",
          "name": "stdout",
          "text": [
            "Requirement already satisfied: spacy in /usr/local/lib/python3.10/dist-packages (3.7.4)\n",
            "Requirement already satisfied: spacy-legacy<3.1.0,>=3.0.11 in /usr/local/lib/python3.10/dist-packages (from spacy) (3.0.12)\n",
            "Requirement already satisfied: spacy-loggers<2.0.0,>=1.0.0 in /usr/local/lib/python3.10/dist-packages (from spacy) (1.0.5)\n",
            "Requirement already satisfied: murmurhash<1.1.0,>=0.28.0 in /usr/local/lib/python3.10/dist-packages (from spacy) (1.0.10)\n",
            "Requirement already satisfied: cymem<2.1.0,>=2.0.2 in /usr/local/lib/python3.10/dist-packages (from spacy) (2.0.8)\n",
            "Requirement already satisfied: preshed<3.1.0,>=3.0.2 in /usr/local/lib/python3.10/dist-packages (from spacy) (3.0.9)\n",
            "Requirement already satisfied: thinc<8.3.0,>=8.2.2 in /usr/local/lib/python3.10/dist-packages (from spacy) (8.2.3)\n",
            "Requirement already satisfied: wasabi<1.2.0,>=0.9.1 in /usr/local/lib/python3.10/dist-packages (from spacy) (1.1.3)\n",
            "Requirement already satisfied: srsly<3.0.0,>=2.4.3 in /usr/local/lib/python3.10/dist-packages (from spacy) (2.4.8)\n",
            "Requirement already satisfied: catalogue<2.1.0,>=2.0.6 in /usr/local/lib/python3.10/dist-packages (from spacy) (2.0.10)\n",
            "Requirement already satisfied: weasel<0.4.0,>=0.1.0 in /usr/local/lib/python3.10/dist-packages (from spacy) (0.3.4)\n",
            "Requirement already satisfied: typer<0.10.0,>=0.3.0 in /usr/local/lib/python3.10/dist-packages (from spacy) (0.9.4)\n",
            "Requirement already satisfied: smart-open<7.0.0,>=5.2.1 in /usr/local/lib/python3.10/dist-packages (from spacy) (6.4.0)\n",
            "Requirement already satisfied: tqdm<5.0.0,>=4.38.0 in /usr/local/lib/python3.10/dist-packages (from spacy) (4.66.4)\n",
            "Requirement already satisfied: requests<3.0.0,>=2.13.0 in /usr/local/lib/python3.10/dist-packages (from spacy) (2.31.0)\n",
            "Requirement already satisfied: pydantic!=1.8,!=1.8.1,<3.0.0,>=1.7.4 in /usr/local/lib/python3.10/dist-packages (from spacy) (2.7.3)\n",
            "Requirement already satisfied: jinja2 in /usr/local/lib/python3.10/dist-packages (from spacy) (3.1.4)\n",
            "Requirement already satisfied: setuptools in /usr/local/lib/python3.10/dist-packages (from spacy) (67.7.2)\n",
            "Requirement already satisfied: packaging>=20.0 in /usr/local/lib/python3.10/dist-packages (from spacy) (24.0)\n",
            "Requirement already satisfied: langcodes<4.0.0,>=3.2.0 in /usr/local/lib/python3.10/dist-packages (from spacy) (3.4.0)\n",
            "Requirement already satisfied: numpy>=1.19.0 in /usr/local/lib/python3.10/dist-packages (from spacy) (1.25.2)\n",
            "Requirement already satisfied: language-data>=1.2 in /usr/local/lib/python3.10/dist-packages (from langcodes<4.0.0,>=3.2.0->spacy) (1.2.0)\n",
            "Requirement already satisfied: annotated-types>=0.4.0 in /usr/local/lib/python3.10/dist-packages (from pydantic!=1.8,!=1.8.1,<3.0.0,>=1.7.4->spacy) (0.7.0)\n",
            "Requirement already satisfied: pydantic-core==2.18.4 in /usr/local/lib/python3.10/dist-packages (from pydantic!=1.8,!=1.8.1,<3.0.0,>=1.7.4->spacy) (2.18.4)\n",
            "Requirement already satisfied: typing-extensions>=4.6.1 in /usr/local/lib/python3.10/dist-packages (from pydantic!=1.8,!=1.8.1,<3.0.0,>=1.7.4->spacy) (4.12.1)\n",
            "Requirement already satisfied: charset-normalizer<4,>=2 in /usr/local/lib/python3.10/dist-packages (from requests<3.0.0,>=2.13.0->spacy) (3.3.2)\n",
            "Requirement already satisfied: idna<4,>=2.5 in /usr/local/lib/python3.10/dist-packages (from requests<3.0.0,>=2.13.0->spacy) (3.7)\n",
            "Requirement already satisfied: urllib3<3,>=1.21.1 in /usr/local/lib/python3.10/dist-packages (from requests<3.0.0,>=2.13.0->spacy) (2.0.7)\n",
            "Requirement already satisfied: certifi>=2017.4.17 in /usr/local/lib/python3.10/dist-packages (from requests<3.0.0,>=2.13.0->spacy) (2024.6.2)\n",
            "Requirement already satisfied: blis<0.8.0,>=0.7.8 in /usr/local/lib/python3.10/dist-packages (from thinc<8.3.0,>=8.2.2->spacy) (0.7.11)\n",
            "Requirement already satisfied: confection<1.0.0,>=0.0.1 in /usr/local/lib/python3.10/dist-packages (from thinc<8.3.0,>=8.2.2->spacy) (0.1.5)\n",
            "Requirement already satisfied: click<9.0.0,>=7.1.1 in /usr/local/lib/python3.10/dist-packages (from typer<0.10.0,>=0.3.0->spacy) (8.1.7)\n",
            "Requirement already satisfied: cloudpathlib<0.17.0,>=0.7.0 in /usr/local/lib/python3.10/dist-packages (from weasel<0.4.0,>=0.1.0->spacy) (0.16.0)\n",
            "Requirement already satisfied: MarkupSafe>=2.0 in /usr/local/lib/python3.10/dist-packages (from jinja2->spacy) (2.1.5)\n",
            "Requirement already satisfied: marisa-trie>=0.7.7 in /usr/local/lib/python3.10/dist-packages (from language-data>=1.2->langcodes<4.0.0,>=3.2.0->spacy) (1.1.1)\n"
          ]
        }
      ]
    },
    {
      "cell_type": "code",
      "source": [
        "import spacy\n",
        "nlp = spacy.load(\"en_core_web_sm\")\n",
        "doc=nlp(text)\n",
        "email=[]\n",
        "for token in doc:\n",
        "  if token.like_email:\n",
        "    email.append(token.text)\n",
        "email\n"
      ],
      "metadata": {
        "colab": {
          "base_uri": "https://localhost:8080/"
        },
        "id": "Ea_4i3UrR0RL",
        "outputId": "29e52a02-de7c-4389-c319-939c2876a7ec"
      },
      "execution_count": null,
      "outputs": [
        {
          "output_type": "execute_result",
          "data": {
            "text/plain": [
              "['geopr2030@gmail.com', 'vineet7070@gmail.com']"
            ]
          },
          "metadata": {},
          "execution_count": 7
        }
      ]
    }
  ]
}